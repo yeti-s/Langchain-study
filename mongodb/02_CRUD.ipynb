{
 "cells": [
  {
   "cell_type": "code",
   "execution_count": 1,
   "metadata": {},
   "outputs": [],
   "source": [
    "from pymongo import MongoClient\n",
    "\n",
    "url = 'localhost'\n",
    "port = 27017\n",
    "client = MongoClient(host=url, port=port)\n",
    "db = client['mydb']"
   ]
  },
  {
   "cell_type": "code",
   "execution_count": 4,
   "metadata": {},
   "outputs": [
    {
     "data": {
      "text/plain": [
       "InsertOneResult(ObjectId('65c2050c99067110ef273962'), acknowledged=True)"
      ]
     },
     "execution_count": 4,
     "metadata": {},
     "output_type": "execute_result"
    }
   ],
   "source": [
    "import datetime\n",
    "\n",
    "posts = db.posts\n",
    "\n",
    "post = {\n",
    "    \"author\": \"admin\",\n",
    "    \"text\": \"test post\",\n",
    "    \"tags\": [\"mongodb\", \"python\", \"pymongo\"],\n",
    "    \"dtae\": datetime.datetime.utcnow()\n",
    "}\n",
    "\n",
    "posts.insert_one(post)"
   ]
  },
  {
   "cell_type": "code",
   "execution_count": 5,
   "metadata": {},
   "outputs": [
    {
     "data": {
      "text/plain": [
       "InsertManyResult([ObjectId('65c2054f99067110ef273963'), ObjectId('65c2054f99067110ef273964'), ObjectId('65c2054f99067110ef273965')], acknowledged=True)"
      ]
     },
     "execution_count": 5,
     "metadata": {},
     "output_type": "execute_result"
    }
   ],
   "source": [
    "post1 = {\n",
    "    \"author\": \"yeti\",\n",
    "    \"text\": \"first mongo data\",\n",
    "    \"tags\": [\"mongodb\", \"python\", \"pymongo\"],\n",
    "    \"dtae\": datetime.datetime.utcnow()\n",
    "}\n",
    "\n",
    "post2 = {\n",
    "    \"author\": \"yun\",\n",
    "    \"text\": \"second mongo data\",\n",
    "    \"tags\": [\"mongodb\", \"python\"],\n",
    "    \"dtae\": datetime.datetime.utcnow()\n",
    "}\n",
    "\n",
    "post3 = {\n",
    "    \"author\": \"hwang\",\n",
    "    \"text\": \"third mongo data\",\n",
    "    \"age\": 25,\n",
    "    \"tags\": [\"mongodb\", \"python\", \"pymongo\"],\n",
    "    \"dtae\": datetime.datetime.utcnow()\n",
    "}\n",
    "\n",
    "posts.insert_many([post1, post2, post3])"
   ]
  },
  {
   "cell_type": "code",
   "execution_count": 7,
   "metadata": {},
   "outputs": [
    {
     "data": {
      "text/plain": [
       "{'_id': ObjectId('65c2050c99067110ef273962'),\n",
       " 'author': 'admin',\n",
       " 'text': 'test post',\n",
       " 'tags': ['mongodb', 'python', 'pymongo'],\n",
       " 'dtae': datetime.datetime(2024, 2, 6, 10, 8, 12, 929000)}"
      ]
     },
     "execution_count": 7,
     "metadata": {},
     "output_type": "execute_result"
    }
   ],
   "source": [
    "posts.find_one()"
   ]
  },
  {
   "cell_type": "code",
   "execution_count": 9,
   "metadata": {},
   "outputs": [
    {
     "data": {
      "text/plain": [
       "{'_id': ObjectId('65c2054f99067110ef273963'),\n",
       " 'author': 'yeti',\n",
       " 'text': 'first mongo data',\n",
       " 'tags': ['mongodb', 'python', 'pymongo'],\n",
       " 'dtae': datetime.datetime(2024, 2, 6, 10, 9, 19, 900000)}"
      ]
     },
     "execution_count": 9,
     "metadata": {},
     "output_type": "execute_result"
    }
   ],
   "source": [
    "posts.find_one({\"author\": \"yeti\"})"
   ]
  },
  {
   "cell_type": "code",
   "execution_count": 10,
   "metadata": {},
   "outputs": [
    {
     "data": {
      "text/plain": [
       "{'_id': ObjectId('65c2050c99067110ef273962'),\n",
       " 'author': 'admin',\n",
       " 'text': 'test post',\n",
       " 'tags': ['mongodb', 'python', 'pymongo'],\n",
       " 'dtae': datetime.datetime(2024, 2, 6, 10, 8, 12, 929000)}"
      ]
     },
     "execution_count": 10,
     "metadata": {},
     "output_type": "execute_result"
    }
   ],
   "source": [
    "posts.find_one({\"tags\": [\"mongodb\", \"python\", \"pymongo\"]})"
   ]
  },
  {
   "cell_type": "code",
   "execution_count": 13,
   "metadata": {},
   "outputs": [
    {
     "name": "stdout",
     "output_type": "stream",
     "text": [
      "{'_id': ObjectId('65c2050c99067110ef273962'), 'author': 'admin', 'text': 'test post', 'tags': ['mongodb', 'python', 'pymongo'], 'dtae': datetime.datetime(2024, 2, 6, 10, 8, 12, 929000)}\n",
      "{'_id': ObjectId('65c2054f99067110ef273963'), 'author': 'yeti', 'text': 'first mongo data', 'tags': ['mongodb', 'python', 'pymongo'], 'dtae': datetime.datetime(2024, 2, 6, 10, 9, 19, 900000)}\n",
      "{'_id': ObjectId('65c2054f99067110ef273965'), 'author': 'hwang', 'text': 'third mongo data', 'age': 25, 'tags': ['mongodb', 'python', 'pymongo'], 'dtae': datetime.datetime(2024, 2, 6, 10, 9, 19, 900000)}\n"
     ]
    }
   ],
   "source": [
    "for doc in posts.find(({\"tags\": [\"mongodb\", \"python\", \"pymongo\"]})):\n",
    "    print(doc)"
   ]
  },
  {
   "cell_type": "code",
   "execution_count": 22,
   "metadata": {},
   "outputs": [
    {
     "data": {
      "text/plain": [
       "UpdateResult({'n': 1, 'nModified': 1, 'ok': 1.0, 'updatedExisting': True}, acknowledged=True)"
      ]
     },
     "execution_count": 22,
     "metadata": {},
     "output_type": "execute_result"
    }
   ],
   "source": [
    "doc = posts.find_one({\"author\": \"yeti\"})\n",
    "posts.update_one(doc, {\"$set\": {\"text\": \"im so hungry\"}})"
   ]
  },
  {
   "cell_type": "code",
   "execution_count": 26,
   "metadata": {},
   "outputs": [
    {
     "data": {
      "text/plain": [
       "UpdateResult({'n': 1, 'nModified': 0, 'ok': 1.0, 'updatedExisting': True}, acknowledged=True)"
      ]
     },
     "execution_count": 26,
     "metadata": {},
     "output_type": "execute_result"
    }
   ],
   "source": [
    "posts.update_one(doc, {\"$set\": {\"age\": 10}})"
   ]
  },
  {
   "cell_type": "code",
   "execution_count": 33,
   "metadata": {},
   "outputs": [
    {
     "data": {
      "text/plain": [
       "UpdateResult({'n': 1, 'nModified': 1, 'ok': 1.0, 'updatedExisting': True}, acknowledged=True)"
      ]
     },
     "execution_count": 33,
     "metadata": {},
     "output_type": "execute_result"
    }
   ],
   "source": [
    "doc = posts.find_one({\"author\": \"yeti\"})\n",
    "posts.update_one(doc, {\"$set\": {\"age\": 25}})"
   ]
  },
  {
   "cell_type": "code",
   "execution_count": 34,
   "metadata": {},
   "outputs": [
    {
     "data": {
      "text/plain": [
       "UpdateResult({'n': 2, 'nModified': 2, 'ok': 1.0, 'updatedExisting': True}, acknowledged=True)"
      ]
     },
     "execution_count": 34,
     "metadata": {},
     "output_type": "execute_result"
    }
   ],
   "source": [
    "posts.update_many({'age': 25}, {\"$set\": {\"age\": 100}})"
   ]
  },
  {
   "cell_type": "code",
   "execution_count": 28,
   "metadata": {},
   "outputs": [
    {
     "data": {
      "text/plain": [
       "UpdateResult({'n': 1, 'nModified': 1, 'ok': 1.0, 'updatedExisting': True}, acknowledged=True)"
      ]
     },
     "execution_count": 28,
     "metadata": {},
     "output_type": "execute_result"
    }
   ],
   "source": [
    "doc = posts.find_one({\"author\": \"yeti\"})\n",
    "posts.update_one(doc, {\"$unset\": {\"age\": None}})"
   ]
  },
  {
   "cell_type": "code",
   "execution_count": 35,
   "metadata": {},
   "outputs": [
    {
     "data": {
      "text/plain": [
       "UpdateResult({'n': 4, 'nModified': 4, 'ok': 1.0, 'updatedExisting': True}, acknowledged=True)"
      ]
     },
     "execution_count": 35,
     "metadata": {},
     "output_type": "execute_result"
    }
   ],
   "source": [
    "posts.update_many({}, {\"$set\": {\"maybe\": 100}})"
   ]
  },
  {
   "cell_type": "code",
   "execution_count": 36,
   "metadata": {},
   "outputs": [
    {
     "data": {
      "text/plain": [
       "DeleteResult({'n': 1, 'ok': 1.0}, acknowledged=True)"
      ]
     },
     "execution_count": 36,
     "metadata": {},
     "output_type": "execute_result"
    }
   ],
   "source": [
    "posts.delete_one({\"author\": \"yeti\"})"
   ]
  },
  {
   "cell_type": "code",
   "execution_count": 37,
   "metadata": {},
   "outputs": [
    {
     "data": {
      "text/plain": [
       "DeleteResult({'n': 3, 'ok': 1.0}, acknowledged=True)"
      ]
     },
     "execution_count": 37,
     "metadata": {},
     "output_type": "execute_result"
    }
   ],
   "source": [
    "posts.delete_many({})"
   ]
  }
 ],
 "metadata": {
  "kernelspec": {
   "display_name": "py309",
   "language": "python",
   "name": "python3"
  },
  "language_info": {
   "codemirror_mode": {
    "name": "ipython",
    "version": 3
   },
   "file_extension": ".py",
   "mimetype": "text/x-python",
   "name": "python",
   "nbconvert_exporter": "python",
   "pygments_lexer": "ipython3",
   "version": "3.9.18"
  }
 },
 "nbformat": 4,
 "nbformat_minor": 2
}
