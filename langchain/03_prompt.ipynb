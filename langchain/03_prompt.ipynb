{
 "cells": [
  {
   "cell_type": "code",
   "execution_count": 22,
   "metadata": {},
   "outputs": [],
   "source": [
    "# this is a dummy value for test\n",
    "OPENAI_API_KEY = 'dummy_key' \n",
    "OPENAI_AZURE_ENDPOINT = 'dummy_azure' \n",
    "OPENAI_API_VERSION = '2023-05-15'\n",
    "MODEL_NAME = 'dev-gpt-35-turbo'\n",
    "\n",
    "from langchain.chat_models import AzureChatOpenAI\n",
    "from langchain.callbacks.streaming_stdout import StreamingStdOutCallbackHandler\n",
    "\n",
    "chatgpt = AzureChatOpenAI(\n",
    "    api_key=OPENAI_API_KEY,\n",
    "    api_version=OPENAI_API_VERSION,\n",
    "    azure_endpoint=OPENAI_AZURE_ENDPOINT,\n",
    "    deployment_name=MODEL_NAME,\n",
    "    temperature=1,\n",
    "    streaming=True,\n",
    "    callbacks=[StreamingStdOutCallbackHandler()],\n",
    ")"
   ]
  },
  {
   "cell_type": "code",
   "execution_count": 23,
   "metadata": {},
   "outputs": [
    {
     "data": {
      "text/plain": [
       "'I am Ironman.'"
      ]
     },
     "execution_count": 23,
     "metadata": {},
     "output_type": "execute_result"
    }
   ],
   "source": [
    "from langchain.prompts import PromptTemplate\n",
    "\n",
    "prompt = PromptTemplate.from_template('I am {name}.')\n",
    "prompt_value = prompt.format_prompt(name=\"Ironman\")\n",
    "prompt_value.text"
   ]
  },
  {
   "cell_type": "code",
   "execution_count": 24,
   "metadata": {},
   "outputs": [
    {
     "name": "stdout",
     "output_type": "stream",
     "text": [
      "[SystemMessage(content='\\n```\\nYou are famous deep learning engineer. Make appropriate utterance.\\n```\\nYou are above man.\\nMake relative atterance.\\n'), HumanMessage(content='\\n대화 이력과 예시를 참고하여 요청에 대한 적절한 응답을 생성해줘.\\n\\n<요청>\\nState Space Model(SSM)이 딥러닝에서 무엇이고 어떻게 사용되나요?\\n\\n<대화 이력>\\nHuman:딥러닝에 대해 궁금합니다.\\nAI:어떤 것을 알려줄까?\\n\\n<예시>\\nHuman:CNN이 뭔지 알려주세요.\\nAI:Convolution Neural Network라고 이미지 처리 분야에서 자주 사용돼.\\n')]\n",
      "SSM은 상태 공간 모델로, 시간에 따라 변하는 시스템의 상태를 모델링하는 데 사용돼. 예를 들어, 딥러닝에서 SSM은 시계열 데이터를 분석하거나 예측하는 데 활용돼."
     ]
    },
    {
     "data": {
      "text/plain": [
       "AIMessage(content='SSM은 상태 공간 모델로, 시간에 따라 변하는 시스템의 상태를 모델링하는 데 사용돼. 예를 들어, 딥러닝에서 SSM은 시계열 데이터를 분석하거나 예측하는 데 활용돼.')"
      ]
     },
     "execution_count": 24,
     "metadata": {},
     "output_type": "execute_result"
    }
   ],
   "source": [
    "from langchain.prompts import ChatPromptTemplate, SystemMessagePromptTemplate, HumanMessagePromptTemplate\n",
    "\n",
    "system_prompt_template = '''\n",
    "```\n",
    "{role}\n",
    "```\n",
    "You are above man.\n",
    "Make relative atterance.\n",
    "'''\n",
    "\n",
    "human_prompt_template = '''\n",
    "대화 이력과 예시를 참고하여 요청에 대한 적절한 응답을 생성해줘.\n",
    "\n",
    "<요청>\n",
    "{query}\n",
    "\n",
    "<대화 이력>\n",
    "{history}\n",
    "\n",
    "<예시>\n",
    "{example}\n",
    "'''\n",
    "\n",
    "\n",
    "system_prompt = SystemMessagePromptTemplate.from_template(system_prompt_template)\n",
    "human_prompt = HumanMessagePromptTemplate.from_template(human_prompt_template)\n",
    "chat_prompt = ChatPromptTemplate.from_messages([system_prompt, human_prompt])\n",
    "prompt = chat_prompt.format_prompt(\n",
    "    role='You are famous deep learning engineer. Make appropriate utterance.',\n",
    "    query='State Space Model(SSM)이 딥러닝에서 무엇이고 어떻게 사용되나요?',\n",
    "    history='Human:딥러닝에 대해 궁금합니다.\\nAI:어떤 것을 알려줄까?',\n",
    "    example='Human:CNN이 뭔지 알려주세요.\\nAI:Convolution Neural Network라고 이미지 처리 분야에서 자주 사용돼.'\n",
    ").to_messages()\n",
    "\n",
    "print(prompt)\n",
    "chatgpt(prompt)"
   ]
  },
  {
   "cell_type": "code",
   "execution_count": 27,
   "metadata": {},
   "outputs": [
    {
     "name": "stdout",
     "output_type": "stream",
     "text": [
      "\n",
      "요청: \"바보\"로 이행시 지어줘.\n",
      "응답: \n",
      "        바 바람이 차게 불어도\n",
      "        보 보이는 너의 미소\n",
      "        \n",
      "\n",
      "\n",
      "\n",
      "요청: \"만두\"로 이행시 지어줘.\n",
      "응답: \n",
      "        만 만나는 모든 순간이\n",
      "        두 두근두근\n",
      "        \n",
      "\n",
      "\n",
      "요청: \"당신\"으로 이행시 지어줘.\n",
      "응답: \n",
      "        당 당신만을 사랑해\n",
      "        신 신념을 가지고 있어"
     ]
    },
    {
     "data": {
      "text/plain": [
       "AIMessage(content='응답: \\n        당 당신만을 사랑해\\n        신 신념을 가지고 있어')"
      ]
     },
     "execution_count": 27,
     "metadata": {},
     "output_type": "execute_result"
    }
   ],
   "source": [
    "from langchain.prompts.few_shot import FewShotPromptTemplate\n",
    "\n",
    "examples = [\n",
    "    {\n",
    "        'query': '\"바보\"로 이행시 지어줘.',\n",
    "        'response': '''\n",
    "        바 바람이 차게 불어도\n",
    "        보 보이는 너의 미소\n",
    "        '''\n",
    "    },\n",
    "    {\n",
    "        'query': '\"만두\"로 이행시 지어줘.',\n",
    "        'response': '''\n",
    "        만 만나는 모든 순간이\n",
    "        두 두근두근\n",
    "        '''\n",
    "    }\n",
    "]\n",
    "\n",
    "example_template = '''\n",
    "요청: {query}\n",
    "응답: {response}\n",
    "'''\n",
    "\n",
    "example_prompt = PromptTemplate(input_variables=['query', 'response'], template=example_template)\n",
    "few_shot_prompt = FewShotPromptTemplate(\n",
    "    examples=examples,\n",
    "    example_prompt=example_prompt,\n",
    "    suffix='요청: {query}',\n",
    "    input_variables=['query']\n",
    ")\n",
    "\n",
    "prompt = few_shot_prompt.format(query='\"당신\"으로 이행시 지어줘.')\n",
    "print(prompt)\n",
    "\n",
    "chatgpt.invoke(prompt)"
   ]
  }
 ],
 "metadata": {
  "kernelspec": {
   "display_name": "py309",
   "language": "python",
   "name": "python3"
  },
  "language_info": {
   "codemirror_mode": {
    "name": "ipython",
    "version": 3
   },
   "file_extension": ".py",
   "mimetype": "text/x-python",
   "name": "python",
   "nbconvert_exporter": "python",
   "pygments_lexer": "ipython3",
   "version": "3.9.18"
  }
 },
 "nbformat": 4,
 "nbformat_minor": 2
}
