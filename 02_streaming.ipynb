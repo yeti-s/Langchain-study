{
 "cells": [
  {
   "cell_type": "code",
   "execution_count": 2,
   "metadata": {},
   "outputs": [],
   "source": [
    "# this is a dummy value for test\n",
    "OPENAI_API_KEY = 'dummy_key' \n",
    "OPENAI_AZURE_ENDPOINT = 'dummy_azure' \n",
    "OPENAI_API_VERSION = '2023-05-15'\n",
    "MODEL_NAME = 'dev-gpt-35-turbo'"
   ]
  },
  {
   "cell_type": "code",
   "execution_count": 3,
   "metadata": {},
   "outputs": [
    {
     "name": "stderr",
     "output_type": "stream",
     "text": [
      "c:\\Users\\sk_ai\\AppData\\Local\\anaconda3\\envs\\py309\\lib\\site-packages\\langchain_core\\_api\\deprecation.py:117: LangChainDeprecationWarning: The class `langchain_community.chat_models.azure_openai.AzureChatOpenAI` was deprecated in langchain-community 0.1.0 and will be removed in 0.2.0. Use langchain_openai.AzureChatOpenAI instead.\n",
      "  warn_deprecated(\n"
     ]
    },
    {
     "data": {
      "text/plain": [
       "AIMessage(content='Space State Model(SSM)는 동적 시스템을 모델링하는 수학적 기법입니다. SSM은 시스템의 상태를 나타내는 상태 변수와 시스템의 입력과 출력을 나타내는 입력 및 출력 변수를 사용하여 시스템을 모델링합니다. 이 모델은 주어진 입력에 대한 시스템의 상태 및 출력을 예측하는 데 사용됩니다. SSM은 제어 시스템, 통신 시스템 및 신호 처리 분야에서 널리 사용됩니다.')"
      ]
     },
     "execution_count": 3,
     "metadata": {},
     "output_type": "execute_result"
    }
   ],
   "source": [
    "from langchain.chat_models import AzureChatOpenAI\n",
    "\n",
    "chatgpt = AzureChatOpenAI(\n",
    "    api_key=OPENAI_API_KEY,\n",
    "    api_version=OPENAI_API_VERSION,\n",
    "    azure_endpoint=OPENAI_AZURE_ENDPOINT,\n",
    "    deployment_name=MODEL_NAME\n",
    ")\n",
    "\n",
    "chatgpt.invoke('Do you know space state model(SSM)? Explain it for me with Korean!')"
   ]
  },
  {
   "cell_type": "code",
   "execution_count": 4,
   "metadata": {},
   "outputs": [
    {
     "name": "stdout",
     "output_type": "stream",
     "text": [
      "공간 상태 모델(SSM)은 동적 시스템의 시간에 따른 변화를 모델링하는 수학적인 도구입니다. SSM은 시간에 따른 다양한 상태들을 효과적으로 관리하고 예측하는데 사용됩니다. 예를 들어, SSM은 우주 비행 경로 계획 및 우주선의 운동을 모델링하는데 활용될 수 있습니다. 이 모델은 우주 비행 미션의 안전성 및 효율성을 증진시키는 데 도움을 줄 수 있습니다."
     ]
    },
    {
     "data": {
      "text/plain": [
       "AIMessage(content='공간 상태 모델(SSM)은 동적 시스템의 시간에 따른 변화를 모델링하는 수학적인 도구입니다. SSM은 시간에 따른 다양한 상태들을 효과적으로 관리하고 예측하는데 사용됩니다. 예를 들어, SSM은 우주 비행 경로 계획 및 우주선의 운동을 모델링하는데 활용될 수 있습니다. 이 모델은 우주 비행 미션의 안전성 및 효율성을 증진시키는 데 도움을 줄 수 있습니다.')"
      ]
     },
     "execution_count": 4,
     "metadata": {},
     "output_type": "execute_result"
    }
   ],
   "source": [
    "from langchain.callbacks.streaming_stdout import StreamingStdOutCallbackHandler\n",
    "\n",
    "chatgpt = AzureChatOpenAI(\n",
    "    api_key=OPENAI_API_KEY,\n",
    "    api_version=OPENAI_API_VERSION,\n",
    "    azure_endpoint=OPENAI_AZURE_ENDPOINT,\n",
    "    deployment_name=MODEL_NAME,\n",
    "    temperature=1,\n",
    "    streaming=True,\n",
    "    callbacks=[StreamingStdOutCallbackHandler()],\n",
    ")\n",
    "\n",
    "chatgpt.invoke('Do you know space state model(SSM)? Explain it for me with Korean!')"
   ]
  },
  {
   "cell_type": "code",
   "execution_count": 5,
   "metadata": {},
   "outputs": [
    {
     "name": "stdout",
     "output_type": "stream",
     "text": [
      "['', 'Space', ' State', ' Model', '(SS', 'M', ')', '은', ' 다', '차', '원', ' 동', '적', ' 시', '스', '템', '의', ' 상', '태', '를', ' 모', '델', '링', '하는', ' 데', ' 사용', '되', '는', ' 수', '학', '적', ' 기', '법', '입니다', '.', ' S', 'SM', '은', ' 상', '태', ' 변수', '와', ' 입력', ' 변수', '를', ' 사용', '하여', ' 시', '스', '템', '을', ' 설', '명', '하', '고', ' 예', '측', '하는', ' 데', ' 도', '움', '이', ' 됩니다', '.', ' 이', ' 모', '델', '은', ' 다', '양', '한', ' 공', '학', ' 및', ' 과', '학', ' 분', '야', '에서', ' 사용', '되', '며', ',', ' 제', '어', ' 시', '스', '템', ',', ' 로', '보', '틱', '스', ',', ' 경', '제', '학', ' 및', ' 기', '상', ' 예', '측', '과', ' 같', '은', ' 다', '양', '한', ' 응', '용', ' 분', '야', '에서', ' 유', '용', '하', '게', ' 활', '용', '됩니다', '.', ' S', 'SM', '은', ' 시', '스', '템', '의', ' 현재', ' 상', '태', '를', ' 알', '고', ' 있는', ' 경우', ' 미', '래', ' 상', '태', '를', ' 예', '측', '하는', ' 데', ' 사용', '될', ' 수', ' 있', '습니다', '.', ' ', ' 이', ' 모', '델', '은', ' 상', '태', ' 공', '간', ' 방', '정', '식', '을', ' 사용', '하여', ' 시', '스', '템', ' 동', '작', '을', ' 설', '명', '하', '고', ',', ' 관', '측', ' 방', '정', '식', '을', ' 사용', '하여', ' 시', '스', '템', ' 출력', '을', ' 모', '델', '링', '합니다', '.', '']\n"
     ]
    }
   ],
   "source": [
    "from langchain.callbacks import StdOutCallbackHandler\n",
    "\n",
    "token_list = []\n",
    "\n",
    "class CustomCallbackHandler(StdOutCallbackHandler):\n",
    "    def __init__(self):\n",
    "        super(CustomCallbackHandler, self).__init__()\n",
    "    def on_llm_new_token(self, token:str, **kwargs):\n",
    "        token_list.append(token)\n",
    "\n",
    "chatgpt = AzureChatOpenAI(\n",
    "    api_key=OPENAI_API_KEY,\n",
    "    api_version=OPENAI_API_VERSION,\n",
    "    azure_endpoint=OPENAI_AZURE_ENDPOINT,\n",
    "    deployment_name=MODEL_NAME,\n",
    "    temperature=1,\n",
    "    streaming=True,\n",
    "    callbacks=[CustomCallbackHandler()],\n",
    ")\n",
    "\n",
    "chatgpt.invoke('Do you know space state model(SSM)? Explain it for me with Korean!')\n",
    "print(token_list)"
   ]
  },
  {
   "cell_type": "code",
   "execution_count": 6,
   "metadata": {},
   "outputs": [
    {
     "name": "stdout",
     "output_type": "stream",
     "text": [
      "Space State Model(SSM)은 시스템의 동적 특성을 표현하는 수학적 모델이다. SSM은 시스템의 현재 상태를 나타내는 상태 변수와 시스템의 입력 및 출력을 표현하는 입력 변수 및 출력 변수를 사용하여 시스템의 동작을 설명한다. 이 모델은 제어 시스템 및 신호 처리 분야에서 널리 사용되며, 시스템의 수학적 모델링 및 분석을 위해 유용하다. SSM은 주로 행렬 및 벡터를 사용하여 시스템의 동역학을 표현하고 시뮬레이션하는데 활용된다."
     ]
    }
   ],
   "source": [
    "chatgpt = AzureChatOpenAI(\n",
    "    api_key=OPENAI_API_KEY,\n",
    "    api_version=OPENAI_API_VERSION,\n",
    "    azure_endpoint=OPENAI_AZURE_ENDPOINT,\n",
    "    deployment_name=MODEL_NAME,\n",
    "    temperature=1\n",
    ")\n",
    "\n",
    "for s in chatgpt.stream('Do you know space state model(SSM)? Explain it for me with Korean!'):\n",
    "    print(s.content, end=\"\", flush=True)"
   ]
  },
  {
   "cell_type": "code",
   "execution_count": 13,
   "metadata": {},
   "outputs": [
    {
     "data": {
      "text/plain": [
       "AIMessage(content='Space state model은 시스템의 동적 특성을 모델링하는 데 사용되는 수학적인 모델링 기법입니다. SSM은 시스템의 상태, 입력 및 출력을 표현하며, 잡음과 불확실성을 고려할 수 있는 강력한 모델링 방법으로 알려져 있습니다.\\n\\n딥러닝에서 SSM을 사용하는 방법은 다양한 응용 분야에서 이루어지고 있습니다. 특히 시계열 데이터 및 시스템의 동적 모델링에 많이 활용되고 있습니다. SSM을 딥러닝과 결합하여 사용하는 방법 중 하나는 딥러닝 네트워크를 통해 SSM의 상태 및 모수(parameter)를 추정하는 것입니다. \\n\\n이를 위해 상태 추정을 위한 딥러닝 모델(예: 순환 신경망 또는 변분 오토인코더)을 사용하여 SSM의 상태 변수를 예측하고, 모수 추정을 위해 딥러닝을 활용하여 SSM의 모수를 학습하는 접근 방식이 있습니다. 또한, SSM을 활용하여 시계열 데이터의 생성 또는 예측을 수행할 수 있으며, 이러한 과정에서 딥러닝 모델을 더욱 정확하게 학습시킬 수 있습니다.\\n\\n따라서 SSM과 딥러닝의 결합은 시스템 모델링 및 예측 분야에서 매우 유용하며, 불확실성과 잡음을 고려하여 시스템을 모델링하고 예측하는 데 도움을 줄 수 있습니다.')"
      ]
     },
     "execution_count": 13,
     "metadata": {},
     "output_type": "execute_result"
    }
   ],
   "source": [
    "from langchain.schema import SystemMessage, HumanMessage\n",
    "\n",
    "messages = [\n",
    "    SystemMessage(content='You are famous deep learning engineer. Answer for questions.'),\n",
    "    HumanMessage(content='Space state model(SSM)을 딥러닝에서 사용하는 방법에 대해 설명해줘.'),\n",
    "]\n",
    "\n",
    "chatgpt(messages)"
   ]
  }
 ],
 "metadata": {
  "kernelspec": {
   "display_name": "py309",
   "language": "python",
   "name": "python3"
  },
  "language_info": {
   "codemirror_mode": {
    "name": "ipython",
    "version": 3
   },
   "file_extension": ".py",
   "mimetype": "text/x-python",
   "name": "python",
   "nbconvert_exporter": "python",
   "pygments_lexer": "ipython3",
   "version": "3.9.18"
  }
 },
 "nbformat": 4,
 "nbformat_minor": 2
}
