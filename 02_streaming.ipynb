{
 "cells": [
  {
   "cell_type": "code",
   "execution_count": 1,
   "metadata": {},
   "outputs": [],
   "source": [
    "# this is a dummy value for test\n",
    "OPENAI_API_KEY = 'dummy_key' \n",
    "OPENAI_AZURE_ENDPOINT = 'dummy_azure' \n",
    "OPENAI_API_VERSION = '2023-05-15'\n",
    "MODEL_NAME = 'dev-gpt-35-turbo'"
   ]
  },
  {
   "cell_type": "code",
   "execution_count": 2,
   "metadata": {},
   "outputs": [
    {
     "name": "stderr",
     "output_type": "stream",
     "text": [
      "c:\\Users\\sk_ai\\AppData\\Local\\anaconda3\\envs\\py309\\lib\\site-packages\\langchain_core\\_api\\deprecation.py:117: LangChainDeprecationWarning: The class `langchain_community.chat_models.azure_openai.AzureChatOpenAI` was deprecated in langchain-community 0.1.0 and will be removed in 0.2.0. Use langchain_openai.AzureChatOpenAI instead.\n",
      "  warn_deprecated(\n"
     ]
    },
    {
     "data": {
      "text/plain": [
       "AIMessage(content='우주 상태 모델(Space State Model, SSM)은 동적 시스템의 상태를 설명하기 위한 수학적 모델입니다. 이 모델은 시스템의 내부 상태를 나타내는 변수와 외부 입력에 의해 변화하는 변수로 구성되어 있습니다. SSM은 상태 변화를 나타내는 공간 상태 방정식과 측정 방정식을 사용하여 시스템의 동적 특성을 분석하고 예측하는 데 사용됩니다. 이 모델은 제어 시스템, 시계열 분석, 신호 처리 및 예측 등 다양한 응용 분야에서 사용됩니다.')"
      ]
     },
     "execution_count": 2,
     "metadata": {},
     "output_type": "execute_result"
    }
   ],
   "source": [
    "from langchain.chat_models import AzureChatOpenAI\n",
    "\n",
    "chatgpt = AzureChatOpenAI(\n",
    "    api_key=OPENAI_API_KEY,\n",
    "    api_version=OPENAI_API_VERSION,\n",
    "    azure_endpoint=OPENAI_AZURE_ENDPOINT,\n",
    "    deployment_name=MODEL_NAME\n",
    ")\n",
    "\n",
    "chatgpt.invoke('Do you know space state model(SSM)? Explain it for me with Korean!')"
   ]
  },
  {
   "cell_type": "code",
   "execution_count": 3,
   "metadata": {},
   "outputs": [
    {
     "name": "stdout",
     "output_type": "stream",
     "text": [
      "Space State Model(SSM)은 동적 시스템을 모델링하기 위한 수학적인 방법론입니다. SSM은 시스템의 상태를 벡터로 표현하고, 상태의 변화를 시간에 따른 미분방정식으로 나타냅니다. 이를 통해 시스템의 예측, 제어, 추정 등 다양한 문제를 해결할 수 있습니다. SSM은 제어공학, 시스템 공학, 경제학 등 다양한 분야에서 활용됩니다."
     ]
    },
    {
     "data": {
      "text/plain": [
       "AIMessage(content='Space State Model(SSM)은 동적 시스템을 모델링하기 위한 수학적인 방법론입니다. SSM은 시스템의 상태를 벡터로 표현하고, 상태의 변화를 시간에 따른 미분방정식으로 나타냅니다. 이를 통해 시스템의 예측, 제어, 추정 등 다양한 문제를 해결할 수 있습니다. SSM은 제어공학, 시스템 공학, 경제학 등 다양한 분야에서 활용됩니다.')"
      ]
     },
     "execution_count": 3,
     "metadata": {},
     "output_type": "execute_result"
    }
   ],
   "source": [
    "from langchain.callbacks.streaming_stdout import StreamingStdOutCallbackHandler\n",
    "\n",
    "chatgpt = AzureChatOpenAI(\n",
    "    api_key=OPENAI_API_KEY,\n",
    "    api_version=OPENAI_API_VERSION,\n",
    "    azure_endpoint=OPENAI_AZURE_ENDPOINT,\n",
    "    deployment_name=MODEL_NAME,\n",
    "    temperature=1,\n",
    "    streaming=True,\n",
    "    callbacks=[StreamingStdOutCallbackHandler()],\n",
    ")\n",
    "\n",
    "chatgpt.invoke('Do you know space state model(SSM)? Explain it for me with Korean!')"
   ]
  },
  {
   "cell_type": "code",
   "execution_count": 4,
   "metadata": {},
   "outputs": [
    {
     "name": "stdout",
     "output_type": "stream",
     "text": [
      "['', '공', '간', ' 상', '태', ' 모', '델', '(SS', 'M', ')', '은', ' 동', '적', ' 시', '스', '템', '의', ' 시', '간', '에', ' 따', '른', ' 변', '화', '를', ' 설', '명', '하기', ' 위', '한', ' 수', '학', '적', ' 모', '델', '입니다', '.', ' 이', ' 모', '델', '은', ' 시', '간', '에', ' 따', '라', ' 시', '스', '템', '의', ' 상', '태', '가', ' 어', '떻', '게', ' 변', '화', '하는', '지', '를', ' 나', '타', '내', '는', '데', ' 사용', '됩니다', '.', ' S', 'SM', '은', ' 특', '히', ' 제', '어', ' 이', '론', '과', ' 시', '스', '템', ' 공', '학', '에서', ' 널', '리', ' 사용', '되', '며', ',', ' 예', '를', ' 들', '어', ' 우', '주', ' 비', '행', '체', '의', ' 상', '태', ' 변', '화', '를', ' 모', '델', '링', '하는', '데', '도', ' 사용', '됩니다', '.', ' S', 'SM', '은', ' 시', '간', '에', ' 따', '른', ' 변수', '들', ' 간', '의', ' 상', '호', '작', '용', '을', ' 설', '명', '하여', ',', ' 동', '적', ' 시', '스', '템', '이', ' 어', '떻', '게', ' 동', '작', '하는', '지', '를', ' 이', '해', '하는', '데', ' 도', '움', '을', ' 줍', '니다', '.', '']\n"
     ]
    }
   ],
   "source": [
    "from langchain.callbacks import StdOutCallbackHandler\n",
    "\n",
    "token_list = []\n",
    "\n",
    "class CustomCallbackHandler(StdOutCallbackHandler):\n",
    "    def __init__(self):\n",
    "        super(CustomCallbackHandler, self).__init__()\n",
    "    def on_llm_new_token(self, token:str, **kwargs):\n",
    "        token_list.append(token)\n",
    "\n",
    "chatgpt = AzureChatOpenAI(\n",
    "    api_key=OPENAI_API_KEY,\n",
    "    api_version=OPENAI_API_VERSION,\n",
    "    azure_endpoint=OPENAI_AZURE_ENDPOINT,\n",
    "    deployment_name=MODEL_NAME,\n",
    "    temperature=1,\n",
    "    streaming=True,\n",
    "    callbacks=[CustomCallbackHandler()],\n",
    ")\n",
    "\n",
    "chatgpt.invoke('Do you know space state model(SSM)? Explain it for me with Korean!')\n",
    "print(token_list)"
   ]
  },
  {
   "cell_type": "code",
   "execution_count": 10,
   "metadata": {},
   "outputs": [
    {
     "name": "stdout",
     "output_type": "stream",
     "text": [
      "Space state model(SSM)은 시스템을 표현하기 위한 수학적 모델 중 하나로, 시스템의 상태를 나타내기 위해 사용됩니다. 이 모델은 시스템의 상태를 벡터로 나타내고, 시스템의 동작을 표현하는 행렬과 벡터를 사용합니다. SSM은 제어공학, 시스템 과학 및 기타 분야에서 널리 사용되며, 다양한 시스템의 동적 특성을 분석하고 예측하는 데 사용됩니다."
     ]
    }
   ],
   "source": [
    "chatgpt = AzureChatOpenAI(\n",
    "    api_key=OPENAI_API_KEY,\n",
    "    api_version=OPENAI_API_VERSION,\n",
    "    azure_endpoint=OPENAI_AZURE_ENDPOINT,\n",
    "    deployment_name=MODEL_NAME,\n",
    "    temperature=1\n",
    ")\n",
    "\n",
    "for s in chatgpt.stream('Do you know space state model(SSM)? Explain it for me with Korean!'):\n",
    "    print(s.content, end=\"\", flush=True)"
   ]
  }
 ],
 "metadata": {
  "kernelspec": {
   "display_name": "py309",
   "language": "python",
   "name": "python3"
  },
  "language_info": {
   "codemirror_mode": {
    "name": "ipython",
    "version": 3
   },
   "file_extension": ".py",
   "mimetype": "text/x-python",
   "name": "python",
   "nbconvert_exporter": "python",
   "pygments_lexer": "ipython3",
   "version": "3.9.18"
  }
 },
 "nbformat": 4,
 "nbformat_minor": 2
}
